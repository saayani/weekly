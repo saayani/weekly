{
 "cells": [
  {
   "cell_type": "code",
   "execution_count": 12,
   "metadata": {},
   "outputs": [],
   "source": [
    "from libs import *"
   ]
  },
  {
   "cell_type": "code",
   "execution_count": 13,
   "metadata": {
    "scrolled": true
   },
   "outputs": [
    {
     "name": "stdout",
     "output_type": "stream",
     "text": [
      "The autoreload extension is already loaded. To reload it, use:\n",
      "  %reload_ext autoreload\n"
     ]
    }
   ],
   "source": [
    "%load_ext autoreload"
   ]
  },
  {
   "cell_type": "code",
   "execution_count": 14,
   "metadata": {},
   "outputs": [],
   "source": [
    "def getdata():\n",
    "    url = \"http://data.gov.in/sites/default/files/dataurl14032019/RS_Session_246_AU459_1.3.csv\"\n",
    "    df = pd.read_csv('./data/zone-wise-punctuality-sf.csv')\n",
    "    return df"
   ]
  },
  {
   "cell_type": "code",
   "execution_count": 19,
   "metadata": {
    "scrolled": true
   },
   "outputs": [],
   "source": [
    "def plot(df):\n",
    "    plt.bar(df['Zone'],df['2017-18'],)\n",
    "    plt.bar(df['Zone'],df['2018-2019 (April - June 2018)'])\n",
    "    plt.xticks(rotation=90)\n",
    "    plt.ylabel('punctuality')\n",
    "    plt.legend(df.columns.to_list()[1:])\n",
    "    plt.show()\n",
    "    plt.close()"
   ]
  },
  {
   "cell_type": "code",
   "execution_count": 20,
   "metadata": {},
   "outputs": [
    {
     "data": {
      "image/png": "[encoded data removed]",
      "text/plain": [
       "<Figure size 432x288 with 1 Axes>"
      ]
     },
     "metadata": {
      "needs_background": "light"
     },
     "output_type": "display_data"
    }
   ],
   "source": [
    "plot(getdata())"
   ]
  },
  {
   "cell_type": "code",
   "execution_count": 22,
   "metadata": {},
   "outputs": [
    {
     "data": {
      "text/html": [
       "<div>\n",
       "<style scoped>\n",
       "    .dataframe tbody tr th:only-of-type {\n",
       "        vertical-align: middle;\n",
       "    }\n",
       "\n",
       "    .dataframe tbody tr th {\n",
       "        vertical-align: top;\n",
       "    }\n",
       "\n",
       "    .dataframe thead th {\n",
       "        text-align: right;\n",
       "    }\n",
       "</style>\n",
       "<table border=\"1\" class=\"dataframe\">\n",
       "  <thead>\n",
       "    <tr style=\"text-align: right;\">\n",
       "      <th></th>\n",
       "      <th>Zone</th>\n",
       "      <th>2017-18</th>\n",
       "      <th>2018-2019 (April - June 2018)</th>\n",
       "    </tr>\n",
       "  </thead>\n",
       "  <tbody>\n",
       "    <tr>\n",
       "      <th>0</th>\n",
       "      <td>Central</td>\n",
       "      <td>80.26</td>\n",
       "      <td>71.89</td>\n",
       "    </tr>\n",
       "    <tr>\n",
       "      <th>1</th>\n",
       "      <td>East Coast</td>\n",
       "      <td>63.80</td>\n",
       "      <td>54.20</td>\n",
       "    </tr>\n",
       "    <tr>\n",
       "      <th>2</th>\n",
       "      <td>East Central</td>\n",
       "      <td>32.42</td>\n",
       "      <td>23.46</td>\n",
       "    </tr>\n",
       "    <tr>\n",
       "      <th>3</th>\n",
       "      <td>Eastern</td>\n",
       "      <td>50.65</td>\n",
       "      <td>30.61</td>\n",
       "    </tr>\n",
       "    <tr>\n",
       "      <th>4</th>\n",
       "      <td>Konkan</td>\n",
       "      <td>86.54</td>\n",
       "      <td>64.02</td>\n",
       "    </tr>\n",
       "    <tr>\n",
       "      <th>5</th>\n",
       "      <td>North Central</td>\n",
       "      <td>67.89</td>\n",
       "      <td>67.69</td>\n",
       "    </tr>\n",
       "    <tr>\n",
       "      <th>6</th>\n",
       "      <td>North Eastern</td>\n",
       "      <td>33.49</td>\n",
       "      <td>13.74</td>\n",
       "    </tr>\n",
       "    <tr>\n",
       "      <th>7</th>\n",
       "      <td>Northeast Frontier</td>\n",
       "      <td>40.59</td>\n",
       "      <td>27.23</td>\n",
       "    </tr>\n",
       "    <tr>\n",
       "      <th>8</th>\n",
       "      <td>Northern</td>\n",
       "      <td>46.80</td>\n",
       "      <td>41.16</td>\n",
       "    </tr>\n",
       "    <tr>\n",
       "      <th>9</th>\n",
       "      <td>North Western</td>\n",
       "      <td>71.92</td>\n",
       "      <td>70.80</td>\n",
       "    </tr>\n",
       "    <tr>\n",
       "      <th>10</th>\n",
       "      <td>South Central</td>\n",
       "      <td>83.73</td>\n",
       "      <td>63.72</td>\n",
       "    </tr>\n",
       "    <tr>\n",
       "      <th>11</th>\n",
       "      <td>South East Central</td>\n",
       "      <td>73.76</td>\n",
       "      <td>54.36</td>\n",
       "    </tr>\n",
       "    <tr>\n",
       "      <th>12</th>\n",
       "      <td>South Eastern</td>\n",
       "      <td>75.68</td>\n",
       "      <td>67.59</td>\n",
       "    </tr>\n",
       "    <tr>\n",
       "      <th>13</th>\n",
       "      <td>Southern</td>\n",
       "      <td>75.62</td>\n",
       "      <td>65.53</td>\n",
       "    </tr>\n",
       "    <tr>\n",
       "      <th>14</th>\n",
       "      <td>South Western</td>\n",
       "      <td>71.41</td>\n",
       "      <td>51.67</td>\n",
       "    </tr>\n",
       "    <tr>\n",
       "      <th>15</th>\n",
       "      <td>West Central</td>\n",
       "      <td>72.55</td>\n",
       "      <td>62.56</td>\n",
       "    </tr>\n",
       "    <tr>\n",
       "      <th>16</th>\n",
       "      <td>Western</td>\n",
       "      <td>82.88</td>\n",
       "      <td>80.93</td>\n",
       "    </tr>\n",
       "  </tbody>\n",
       "</table>\n",
       "</div>"
      ],
      "text/plain": [
       "                  Zone  2017-18  2018-2019 (April - June 2018)\n",
       "0              Central    80.26                          71.89\n",
       "1           East Coast    63.80                          54.20\n",
       "2         East Central    32.42                          23.46\n",
       "3              Eastern    50.65                          30.61\n",
       "4               Konkan    86.54                          64.02\n",
       "5        North Central    67.89                          67.69\n",
       "6        North Eastern    33.49                          13.74\n",
       "7   Northeast Frontier    40.59                          27.23\n",
       "8             Northern    46.80                          41.16\n",
       "9        North Western    71.92                          70.80\n",
       "10       South Central    83.73                          63.72\n",
       "11  South East Central    73.76                          54.36\n",
       "12       South Eastern    75.68                          67.59\n",
       "13            Southern    75.62                          65.53\n",
       "14       South Western    71.41                          51.67\n",
       "15        West Central    72.55                          62.56\n",
       "16             Western    82.88                          80.93"
      ]
     },
     "execution_count": 22,
     "metadata": {},
     "output_type": "execute_result"
    }
   ],
   "source": [
    "getdata()"
   ]
  },
  {
   "cell_type": "code",
   "execution_count": null,
   "metadata": {},
   "outputs": [],
   "source": []
  }
 ],
 "metadata": {
  "kernelspec": {
   "display_name": "Python 3",
   "language": "python",
   "name": "python3"
  },
  "language_info": {
   "codemirror_mode": {
    "name": "ipython",
    "version": 3
   },
   "file_extension": ".py",
   "mimetype": "text/x-python",
   "name": "python",
   "nbconvert_exporter": "python",
   "pygments_lexer": "ipython3",
   "version": "3.7.3"
  }
 },
 "nbformat": 4,
 "nbformat_minor": 2
}
