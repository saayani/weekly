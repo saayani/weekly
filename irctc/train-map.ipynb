{
 "cells": [
  {
   "cell_type": "markdown",
   "metadata": {},
   "source": [
    "## Open Street Map\n"
   ]
  },
  {
   "cell_type": "code",
   "execution_count": 1,
   "metadata": {
    "scrolled": false
   },
   "outputs": [],
   "source": [
    "from __future__ import print_function\n",
    "from ipyleaflet import (\n",
    "    Map,\n",
    "    Marker, MarkerCluster,\n",
    "    TileLayer, ImageOverlay,\n",
    "    Polyline, Polygon, Rectangle, Circle, CircleMarker,\n",
    "    Popup,\n",
    "    GeoJSON,\n",
    "    DrawControl,\n",
    "    basemaps,\n",
    "    WidgetControl,\n",
    "    LayerGroup,\n",
    "    FullScreenControl,\n",
    "    Icon,\n",
    ")\n",
    "from ipywidgets import  IntSlider, jslink, HTML , interact, interactive, fixed, interact_manual,widgets\n"
   ]
  },
  {
   "cell_type": "code",
   "execution_count": 3,
   "metadata": {
    "scrolled": true
   },
   "outputs": [],
   "source": [
    "import json\n",
    "\n",
    "stations = json.load(open('./data/stations.json'))\n",
    "stationToCoordinates = {f['properties']['code']:(f['geometry']['coordinates'][::-1],f['properties']['zone']) for f in stations['features'] if f['geometry'] is not None}\n",
    "json.dump(stationToCoordinates,open('./data/stations_to_loc.json','w'))"
   ]
  },
  {
   "cell_type": "code",
   "execution_count": 6,
   "metadata": {
    "scrolled": true
   },
   "outputs": [
    {
     "data": {
      "application/vnd.jupyter.widget-view+json": {
       "model_id": "001adce83a3e42fcad6f1666462938fc",
       "version_major": 2,
       "version_minor": 0
      },
      "text/plain": [
       "Map(basemap={'url': 'https://{s}.tile.openstreetmap.org/{z}/{x}/{y}.png', 'max_zoom': 19, 'attribution': 'Map …"
      ]
     },
     "metadata": {},
     "output_type": "display_data"
    }
   ],
   "source": [
    "icon = Icon(icon_url='http://icons.iconarchive.com/icons/graphicloads/colorful-long-shadow/72/Car-icon.png', icon_size=[10, 10])\n",
    "\n",
    "def TrainPNG(name,location):\n",
    "    mark = Marker(location=location,title=name)\n",
    "    mark.title=name\n",
    "    #mark.icon= icon\n",
    "    return mark\n",
    "\n",
    "def TrainCircle(name,location):\n",
    "    circle_marker = CircleMarker()\n",
    "    circle_marker.location = location\n",
    "    circle_marker.radius = 2\n",
    "    circle_marker.color = \"red\"\n",
    "    print(circle_marker)\n",
    "    return circle_marker\n",
    "\n",
    "def Train(name,location):\n",
    "    return TrainPNG(name,location)\n",
    "\n",
    "def draw(zone):\n",
    "    trains = []\n",
    "    for key in stationToCoordinates:\n",
    "        if stationToCoordinates[key][1] == zone:\n",
    "            t = Train(key,stationToCoordinates[key][0])\n",
    "            trains.append(t)\n",
    "    l=LayerGroup(layers=trains)\n",
    "    m.clear_layers()\n",
    "    m.add_layer(basemaps.CartoDB.Positron)\n",
    "    m.add_layer(l)\n",
    "    \n",
    "    \n",
    "    \n",
    "m = Map(center=[22.6252978589571, 77.34580993652344], zoom=4)\n",
    "zones_selector=interactive(draw,zone=set(map(lambda x:x['properties']['zone'],stations['features'])));\n",
    "zones_selector.description = \"Zone: \"\n",
    "zoom_slider = IntSlider(description='Zoom level:', min=0, max=15, value=5)\n",
    "jslink((zoom_slider, 'value'), (m, 'zoom'))\n",
    "widget_control1 = WidgetControl(widget=zoom_slider, position='topright')\n",
    "widget_control2 = WidgetControl(widget=zones_selector, position='bottomright')\n",
    "\n",
    "m.add_control(widget_control1)\n",
    "m.add_control(widget_control2)\n",
    "m.add_control(FullScreenControl())\n",
    "m"
   ]
  },
  {
   "cell_type": "markdown",
   "metadata": {},
   "source": [
    "Using Only Matplot lib\n",
    "----------------------------"
   ]
  },
  {
   "cell_type": "code",
   "execution_count": null,
   "metadata": {
    "scrolled": false
   },
   "outputs": [],
   "source": []
  }
 ],
 "metadata": {
  "kernelspec": {
   "display_name": "Python 3",
   "language": "python",
   "name": "python3"
  },
  "language_info": {
   "codemirror_mode": {
    "name": "ipython",
    "version": 3
   },
   "file_extension": ".py",
   "mimetype": "text/x-python",
   "name": "python",
   "nbconvert_exporter": "python",
   "pygments_lexer": "ipython3",
   "version": "3.7.3"
  }
 },
 "nbformat": 4,
 "nbformat_minor": 2
}
